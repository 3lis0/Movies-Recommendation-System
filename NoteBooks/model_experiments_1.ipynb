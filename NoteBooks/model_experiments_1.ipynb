{
 "cells": [
  {
   "cell_type": "markdown",
   "id": "fede50e2",
   "metadata": {},
   "source": [
    "## Matrix Factorization"
   ]
  },
  {
   "cell_type": "code",
   "execution_count": 73,
   "id": "dd753850",
   "metadata": {},
   "outputs": [],
   "source": [
    "from surprise import SVD, Dataset, Reader\n",
    "from surprise.model_selection import train_test_split\n",
    "from surprise import accuracy\n",
    "from collections import defaultdict\n",
    "from surprise.model_selection import GridSearchCV\n",
    "import pandas as pd\n",
    "from sklearn.metrics import mean_squared_error, mean_absolute_error\n",
    "import numpy as np\n",
    "import pickle\n"
   ]
  },
  {
   "cell_type": "code",
   "execution_count": 47,
   "id": "b344a10a",
   "metadata": {},
   "outputs": [
    {
     "data": {
      "text/html": [
       "<div>\n",
       "<style scoped>\n",
       "    .dataframe tbody tr th:only-of-type {\n",
       "        vertical-align: middle;\n",
       "    }\n",
       "\n",
       "    .dataframe tbody tr th {\n",
       "        vertical-align: top;\n",
       "    }\n",
       "\n",
       "    .dataframe thead th {\n",
       "        text-align: right;\n",
       "    }\n",
       "</style>\n",
       "<table border=\"1\" class=\"dataframe\">\n",
       "  <thead>\n",
       "    <tr style=\"text-align: right;\">\n",
       "      <th></th>\n",
       "      <th>userId</th>\n",
       "      <th>movieId</th>\n",
       "      <th>rating</th>\n",
       "      <th>timestamp</th>\n",
       "    </tr>\n",
       "  </thead>\n",
       "  <tbody>\n",
       "    <tr>\n",
       "      <th>0</th>\n",
       "      <td>1</td>\n",
       "      <td>1</td>\n",
       "      <td>4.0</td>\n",
       "      <td>964982703</td>\n",
       "    </tr>\n",
       "    <tr>\n",
       "      <th>1</th>\n",
       "      <td>1</td>\n",
       "      <td>3</td>\n",
       "      <td>4.0</td>\n",
       "      <td>964981247</td>\n",
       "    </tr>\n",
       "    <tr>\n",
       "      <th>2</th>\n",
       "      <td>1</td>\n",
       "      <td>6</td>\n",
       "      <td>4.0</td>\n",
       "      <td>964982224</td>\n",
       "    </tr>\n",
       "    <tr>\n",
       "      <th>3</th>\n",
       "      <td>1</td>\n",
       "      <td>47</td>\n",
       "      <td>5.0</td>\n",
       "      <td>964983815</td>\n",
       "    </tr>\n",
       "    <tr>\n",
       "      <th>4</th>\n",
       "      <td>1</td>\n",
       "      <td>50</td>\n",
       "      <td>5.0</td>\n",
       "      <td>964982931</td>\n",
       "    </tr>\n",
       "  </tbody>\n",
       "</table>\n",
       "</div>"
      ],
      "text/plain": [
       "   userId  movieId  rating  timestamp\n",
       "0       1        1     4.0  964982703\n",
       "1       1        3     4.0  964981247\n",
       "2       1        6     4.0  964982224\n",
       "3       1       47     5.0  964983815\n",
       "4       1       50     5.0  964982931"
      ]
     },
     "execution_count": 47,
     "metadata": {},
     "output_type": "execute_result"
    }
   ],
   "source": [
    "ratings_df = pd.read_csv('../data/ratings.csv')\n",
    "ratings_df.head()"
   ]
  },
  {
   "cell_type": "code",
   "execution_count": 48,
   "id": "d967dcd8",
   "metadata": {},
   "outputs": [
    {
     "data": {
      "text/html": [
       "<div>\n",
       "<style scoped>\n",
       "    .dataframe tbody tr th:only-of-type {\n",
       "        vertical-align: middle;\n",
       "    }\n",
       "\n",
       "    .dataframe tbody tr th {\n",
       "        vertical-align: top;\n",
       "    }\n",
       "\n",
       "    .dataframe thead th {\n",
       "        text-align: right;\n",
       "    }\n",
       "</style>\n",
       "<table border=\"1\" class=\"dataframe\">\n",
       "  <thead>\n",
       "    <tr style=\"text-align: right;\">\n",
       "      <th></th>\n",
       "      <th>userId</th>\n",
       "      <th>movieId</th>\n",
       "      <th>rating</th>\n",
       "      <th>timestamp</th>\n",
       "    </tr>\n",
       "  </thead>\n",
       "  <tbody>\n",
       "    <tr>\n",
       "      <th>0</th>\n",
       "      <td>1</td>\n",
       "      <td>1</td>\n",
       "      <td>8.0</td>\n",
       "      <td>964982703</td>\n",
       "    </tr>\n",
       "    <tr>\n",
       "      <th>1</th>\n",
       "      <td>1</td>\n",
       "      <td>3</td>\n",
       "      <td>8.0</td>\n",
       "      <td>964981247</td>\n",
       "    </tr>\n",
       "    <tr>\n",
       "      <th>2</th>\n",
       "      <td>1</td>\n",
       "      <td>6</td>\n",
       "      <td>8.0</td>\n",
       "      <td>964982224</td>\n",
       "    </tr>\n",
       "    <tr>\n",
       "      <th>3</th>\n",
       "      <td>1</td>\n",
       "      <td>47</td>\n",
       "      <td>10.0</td>\n",
       "      <td>964983815</td>\n",
       "    </tr>\n",
       "    <tr>\n",
       "      <th>4</th>\n",
       "      <td>1</td>\n",
       "      <td>50</td>\n",
       "      <td>10.0</td>\n",
       "      <td>964982931</td>\n",
       "    </tr>\n",
       "  </tbody>\n",
       "</table>\n",
       "</div>"
      ],
      "text/plain": [
       "   userId  movieId  rating  timestamp\n",
       "0       1        1     8.0  964982703\n",
       "1       1        3     8.0  964981247\n",
       "2       1        6     8.0  964982224\n",
       "3       1       47    10.0  964983815\n",
       "4       1       50    10.0  964982931"
      ]
     },
     "execution_count": 48,
     "metadata": {},
     "output_type": "execute_result"
    }
   ],
   "source": [
    "ratings_df['rating'] = ratings_df['rating']*2\n",
    "ratings_df.head()"
   ]
  },
  {
   "cell_type": "code",
   "execution_count": 49,
   "id": "fa573e85",
   "metadata": {},
   "outputs": [],
   "source": [
    "reader = Reader(rating_scale=(1, 10))\n",
    "data = Dataset.load_from_df(ratings_df[['userId', 'movieId', 'rating']], reader)\n",
    "trainset, testset = train_test_split(data, test_size=0.2, random_state=42)"
   ]
  },
  {
   "cell_type": "code",
   "execution_count": 50,
   "id": "a2cc46ee",
   "metadata": {},
   "outputs": [
    {
     "data": {
      "text/plain": [
       "<surprise.prediction_algorithms.matrix_factorization.SVD at 0x1a9e29259d0>"
      ]
     },
     "execution_count": 50,
     "metadata": {},
     "output_type": "execute_result"
    }
   ],
   "source": [
    "model = SVD()\n",
    "model.fit(trainset)"
   ]
  },
  {
   "cell_type": "code",
   "execution_count": 51,
   "id": "53676d4d",
   "metadata": {},
   "outputs": [
    {
     "name": "stdout",
     "output_type": "stream",
     "text": [
      "RMSE: 1.7666\n",
      "MAE:  1.3581\n"
     ]
    }
   ],
   "source": [
    "predictions = model.test(testset)\n",
    "rmse = accuracy.rmse(predictions)\n",
    "mae = accuracy.mae(predictions)"
   ]
  },
  {
   "cell_type": "code",
   "execution_count": 53,
   "id": "7fb19535",
   "metadata": {},
   "outputs": [
    {
     "name": "stdout",
     "output_type": "stream",
     "text": [
      "{'rmse': 1.6861607202169986, 'mae': 1.2918686000737443}\n",
      "{'rmse': {'n_factors': 300, 'lr_all': 0.01, 'reg_all': 0.1}, 'mae': {'n_factors': 300, 'lr_all': 0.01, 'reg_all': 0.1}}\n"
     ]
    }
   ],
   "source": [
    "param_grid = {\n",
    "    'n_factors': [50, 100, 200, 300],\n",
    "    'lr_all': [0.002, 0.005, 0.01],\n",
    "    'reg_all': [0.02, 0.1]\n",
    "}\n",
    "\n",
    "gs = GridSearchCV(SVD, param_grid, measures=['rmse', 'mae'], cv=10)\n",
    "gs.fit(data)\n",
    "\n",
    "print(gs.best_score)\n",
    "print(gs.best_params)"
   ]
  },
  {
   "cell_type": "code",
   "execution_count": 56,
   "id": "a6297367",
   "metadata": {},
   "outputs": [
    {
     "name": "stdout",
     "output_type": "stream",
     "text": [
      "Accuracy within 2.0: 0.7717\n",
      "Accuracy within 1.0: 0.4659\n",
      "Accuracy within 0.5: 0.2469\n"
     ]
    }
   ],
   "source": [
    "def accuracy_within_threshold(predictions, threshold=1.0):\n",
    "    y_true = np.array([pred.r_ui for pred in predictions])\n",
    "    y_pred = np.array([pred.est for pred in predictions])\n",
    "    return np.mean(np.abs(y_true - y_pred) <= threshold)\n",
    "\n",
    "# After model.test()\n",
    "acc_within_2 = accuracy_within_threshold(predictions, threshold=2.0)\n",
    "print(f\"Accuracy within 2.0: {acc_within_2:.4f}\")\n",
    "\n",
    "acc_within_1 = accuracy_within_threshold(predictions, threshold=1.0)\n",
    "print(f\"Accuracy within 1.0: {acc_within_1:.4f}\")\n",
    "\n",
    "acc_within_0_5 = accuracy_within_threshold(predictions, threshold=0.5)\n",
    "print(f\"Accuracy within 0.5: {acc_within_0_5:.4f}\")\n"
   ]
  },
  {
   "cell_type": "code",
   "execution_count": 69,
   "id": "11b355f7",
   "metadata": {},
   "outputs": [],
   "source": [
    "user_id = 7\n",
    "\n",
    "# All movie IDs\n",
    "all_movie_ids = ratings_df['movieId'].unique()\n",
    "\n",
    "# Movies the user has already rated\n",
    "rated_movie_ids = ratings_df[ratings_df['userId'] == user_id]['movieId'].values\n",
    "\n",
    "# Movies not rated by the user\n",
    "unrated_movie_ids = [mid for mid in all_movie_ids if mid not in rated_movie_ids]\n"
   ]
  },
  {
   "cell_type": "code",
   "execution_count": 70,
   "id": "1def328f",
   "metadata": {},
   "outputs": [],
   "source": [
    "# Ensure user_id and movieId are passed as strings (Surprise expects strings)\n",
    "predictions = [\n",
    "    model.predict(str(user_id), str(movie_id))\n",
    "    for movie_id in unrated_movie_ids\n",
    "]\n"
   ]
  },
  {
   "cell_type": "code",
   "execution_count": 72,
   "id": "550f98a5",
   "metadata": {},
   "outputs": [
    {
     "data": {
      "text/plain": [
       "[Prediction(uid='7', iid='3', r_ui=None, est=7.006458570932712, details={'was_impossible': False}),\n",
       " Prediction(uid='7', iid='6', r_ui=None, est=7.006458570932712, details={'was_impossible': False}),\n",
       " Prediction(uid='7', iid='47', r_ui=None, est=7.006458570932712, details={'was_impossible': False}),\n",
       " Prediction(uid='7', iid='70', r_ui=None, est=7.006458570932712, details={'was_impossible': False}),\n",
       " Prediction(uid='7', iid='101', r_ui=None, est=7.006458570932712, details={'was_impossible': False}),\n",
       " Prediction(uid='7', iid='110', r_ui=None, est=7.006458570932712, details={'was_impossible': False}),\n",
       " Prediction(uid='7', iid='151', r_ui=None, est=7.006458570932712, details={'was_impossible': False}),\n",
       " Prediction(uid='7', iid='157', r_ui=None, est=7.006458570932712, details={'was_impossible': False}),\n",
       " Prediction(uid='7', iid='163', r_ui=None, est=7.006458570932712, details={'was_impossible': False}),\n",
       " Prediction(uid='7', iid='216', r_ui=None, est=7.006458570932712, details={'was_impossible': False})]"
      ]
     },
     "execution_count": 72,
     "metadata": {},
     "output_type": "execute_result"
    }
   ],
   "source": [
    "predictions[:10]"
   ]
  },
  {
   "cell_type": "code",
   "execution_count": 74,
   "id": "3783282b",
   "metadata": {},
   "outputs": [],
   "source": [
    "with open(\"svd_model.pkl\", \"wb\") as f:\n",
    "    pickle.dump(model, f)\n"
   ]
  }
 ],
 "metadata": {
  "kernelspec": {
   "display_name": "Python 3",
   "language": "python",
   "name": "python3"
  },
  "language_info": {
   "codemirror_mode": {
    "name": "ipython",
    "version": 3
   },
   "file_extension": ".py",
   "mimetype": "text/x-python",
   "name": "python",
   "nbconvert_exporter": "python",
   "pygments_lexer": "ipython3",
   "version": "3.9.0"
  }
 },
 "nbformat": 4,
 "nbformat_minor": 5
}
