{
 "cells": [
  {
   "cell_type": "markdown",
   "id": "b0f05aa5",
   "metadata": {},
   "source": [
    "# PROJECT"
   ]
  },
  {
   "cell_type": "markdown",
   "id": "4aaff593",
   "metadata": {},
   "source": [
    "## Introduction  \n",
    "This notebook trains two models for a movie recommender system using the MovieLens 100K dataset:\n",
    "- A user-based model using Neural Collaborative Filtering (NCF)\n",
    "- An item similarity model using cosine similarity on embeddings\n",
    "\n",
    "We will follow the full ML pipeline: data loading → preprocessing → modeling → saving.\n"
   ]
  },
  {
   "cell_type": "markdown",
   "id": "1afb81e8",
   "metadata": {},
   "source": [
    "## About Data\n",
    "Columns:\n",
    "- userId (int): Unique identifier for users\n",
    "- movieId (int): Unique identifier for movies\n",
    "- rating (float): Rating given by a user to a movie (range 0.5–5.0)\n",
    "- timestamp (int): When the rating was given (not used now)\n",
    "- title (object): Movie title\n",
    "- genres (object): Movie genres\n"
   ]
  },
  {
   "cell_type": "markdown",
   "id": "581e8468",
   "metadata": {},
   "source": [
    "## `01` Import Libraries"
   ]
  },
  {
   "cell_type": "code",
   "execution_count": null,
   "id": "125c8ddf",
   "metadata": {},
   "outputs": [],
   "source": [
    "import pandas as pd  \n",
    "\n",
    "from sklearn.model_selection import train_test_split\n",
    "import matplotlib.pyplot as plt \n"
   ]
  },
  {
   "cell_type": "markdown",
   "id": "6fede445",
   "metadata": {},
   "source": [
    "## `02` Read Data"
   ]
  },
  {
   "cell_type": "code",
   "execution_count": 13,
   "id": "b327eecb",
   "metadata": {},
   "outputs": [],
   "source": [
    "ratings = pd.read_csv(\"../data/ratings.csv\")\n",
    "movies = pd.read_csv(\"../data/movies.csv\")\n",
    "\n",
    "df = ratings.merge(movies, on=\"movieId\")"
   ]
  },
  {
   "cell_type": "markdown",
   "id": "8ef98ed7",
   "metadata": {},
   "source": [
    "## `03` EDA"
   ]
  },
  {
   "cell_type": "code",
   "execution_count": 14,
   "id": "249c5e02",
   "metadata": {},
   "outputs": [
    {
     "data": {
      "application/vnd.microsoft.datawrangler.viewer.v0+json": {
       "columns": [
        {
         "name": "index",
         "rawType": "int64",
         "type": "integer"
        },
        {
         "name": "userId",
         "rawType": "int64",
         "type": "integer"
        },
        {
         "name": "movieId",
         "rawType": "int64",
         "type": "integer"
        },
        {
         "name": "rating",
         "rawType": "float64",
         "type": "float"
        },
        {
         "name": "timestamp",
         "rawType": "int64",
         "type": "integer"
        },
        {
         "name": "title",
         "rawType": "object",
         "type": "string"
        },
        {
         "name": "genres",
         "rawType": "object",
         "type": "string"
        }
       ],
       "ref": "a6fa1ab3-3c00-4238-95fc-94a8b80bcafb",
       "rows": [
        [
         "0",
         "1",
         "1",
         "4.0",
         "964982703",
         "Toy Story (1995)",
         "Adventure|Animation|Children|Comedy|Fantasy"
        ],
        [
         "1",
         "1",
         "3",
         "4.0",
         "964981247",
         "Grumpier Old Men (1995)",
         "Comedy|Romance"
        ],
        [
         "2",
         "1",
         "6",
         "4.0",
         "964982224",
         "Heat (1995)",
         "Action|Crime|Thriller"
        ],
        [
         "3",
         "1",
         "47",
         "5.0",
         "964983815",
         "Seven (a.k.a. Se7en) (1995)",
         "Mystery|Thriller"
        ],
        [
         "4",
         "1",
         "50",
         "5.0",
         "964982931",
         "Usual Suspects, The (1995)",
         "Crime|Mystery|Thriller"
        ],
        [
         "5",
         "1",
         "70",
         "3.0",
         "964982400",
         "From Dusk Till Dawn (1996)",
         "Action|Comedy|Horror|Thriller"
        ],
        [
         "6",
         "1",
         "101",
         "5.0",
         "964980868",
         "Bottle Rocket (1996)",
         "Adventure|Comedy|Crime|Romance"
        ],
        [
         "7",
         "1",
         "110",
         "4.0",
         "964982176",
         "Braveheart (1995)",
         "Action|Drama|War"
        ],
        [
         "8",
         "1",
         "151",
         "5.0",
         "964984041",
         "Rob Roy (1995)",
         "Action|Drama|Romance|War"
        ],
        [
         "9",
         "1",
         "157",
         "5.0",
         "964984100",
         "Canadian Bacon (1995)",
         "Comedy|War"
        ],
        [
         "10",
         "1",
         "163",
         "5.0",
         "964983650",
         "Desperado (1995)",
         "Action|Romance|Western"
        ],
        [
         "11",
         "1",
         "216",
         "5.0",
         "964981208",
         "Billy Madison (1995)",
         "Comedy"
        ],
        [
         "12",
         "1",
         "223",
         "3.0",
         "964980985",
         "Clerks (1994)",
         "Comedy"
        ],
        [
         "13",
         "1",
         "231",
         "5.0",
         "964981179",
         "Dumb & Dumber (Dumb and Dumber) (1994)",
         "Adventure|Comedy"
        ],
        [
         "14",
         "1",
         "235",
         "4.0",
         "964980908",
         "Ed Wood (1994)",
         "Comedy|Drama"
        ],
        [
         "15",
         "1",
         "260",
         "5.0",
         "964981680",
         "Star Wars: Episode IV - A New Hope (1977)",
         "Action|Adventure|Sci-Fi"
        ],
        [
         "16",
         "1",
         "296",
         "3.0",
         "964982967",
         "Pulp Fiction (1994)",
         "Comedy|Crime|Drama|Thriller"
        ],
        [
         "17",
         "1",
         "316",
         "3.0",
         "964982310",
         "Stargate (1994)",
         "Action|Adventure|Sci-Fi"
        ],
        [
         "18",
         "1",
         "333",
         "5.0",
         "964981179",
         "Tommy Boy (1995)",
         "Comedy"
        ],
        [
         "19",
         "1",
         "349",
         "4.0",
         "964982563",
         "Clear and Present Danger (1994)",
         "Action|Crime|Drama|Thriller"
        ],
        [
         "20",
         "1",
         "356",
         "4.0",
         "964980962",
         "Forrest Gump (1994)",
         "Comedy|Drama|Romance|War"
        ],
        [
         "21",
         "1",
         "362",
         "5.0",
         "964982588",
         "Jungle Book, The (1994)",
         "Adventure|Children|Romance"
        ],
        [
         "22",
         "1",
         "367",
         "4.0",
         "964981710",
         "Mask, The (1994)",
         "Action|Comedy|Crime|Fantasy"
        ],
        [
         "23",
         "1",
         "423",
         "3.0",
         "964982363",
         "Blown Away (1994)",
         "Action|Thriller"
        ],
        [
         "24",
         "1",
         "441",
         "4.0",
         "964980868",
         "Dazed and Confused (1993)",
         "Comedy"
        ],
        [
         "25",
         "1",
         "457",
         "5.0",
         "964981909",
         "Fugitive, The (1993)",
         "Thriller"
        ],
        [
         "26",
         "1",
         "480",
         "4.0",
         "964982346",
         "Jurassic Park (1993)",
         "Action|Adventure|Sci-Fi|Thriller"
        ],
        [
         "27",
         "1",
         "500",
         "3.0",
         "964981208",
         "Mrs. Doubtfire (1993)",
         "Comedy|Drama"
        ],
        [
         "28",
         "1",
         "527",
         "5.0",
         "964984002",
         "Schindler's List (1993)",
         "Drama|War"
        ],
        [
         "29",
         "1",
         "543",
         "4.0",
         "964981179",
         "So I Married an Axe Murderer (1993)",
         "Comedy|Romance|Thriller"
        ],
        [
         "30",
         "1",
         "552",
         "4.0",
         "964982653",
         "Three Musketeers, The (1993)",
         "Action|Adventure|Comedy|Romance"
        ],
        [
         "31",
         "1",
         "553",
         "5.0",
         "964984153",
         "Tombstone (1993)",
         "Action|Drama|Western"
        ],
        [
         "32",
         "1",
         "590",
         "4.0",
         "964982546",
         "Dances with Wolves (1990)",
         "Adventure|Drama|Western"
        ],
        [
         "33",
         "1",
         "592",
         "4.0",
         "964982271",
         "Batman (1989)",
         "Action|Crime|Thriller"
        ],
        [
         "34",
         "1",
         "593",
         "4.0",
         "964983793",
         "Silence of the Lambs, The (1991)",
         "Crime|Horror|Thriller"
        ],
        [
         "35",
         "1",
         "596",
         "5.0",
         "964982838",
         "Pinocchio (1940)",
         "Animation|Children|Fantasy|Musical"
        ],
        [
         "36",
         "1",
         "608",
         "5.0",
         "964982931",
         "Fargo (1996)",
         "Comedy|Crime|Drama|Thriller"
        ],
        [
         "37",
         "1",
         "648",
         "3.0",
         "964982563",
         "Mission: Impossible (1996)",
         "Action|Adventure|Mystery|Thriller"
        ],
        [
         "38",
         "1",
         "661",
         "5.0",
         "964982838",
         "James and the Giant Peach (1996)",
         "Adventure|Animation|Children|Fantasy|Musical"
        ],
        [
         "39",
         "1",
         "673",
         "3.0",
         "964981775",
         "Space Jam (1996)",
         "Adventure|Animation|Children|Comedy|Fantasy|Sci-Fi"
        ],
        [
         "40",
         "1",
         "733",
         "4.0",
         "964982400",
         "Rock, The (1996)",
         "Action|Adventure|Thriller"
        ],
        [
         "41",
         "1",
         "736",
         "3.0",
         "964982653",
         "Twister (1996)",
         "Action|Adventure|Romance|Thriller"
        ],
        [
         "42",
         "1",
         "780",
         "3.0",
         "964984086",
         "Independence Day (a.k.a. ID4) (1996)",
         "Action|Adventure|Sci-Fi|Thriller"
        ],
        [
         "43",
         "1",
         "804",
         "4.0",
         "964980499",
         "She's the One (1996)",
         "Comedy|Romance"
        ],
        [
         "44",
         "1",
         "919",
         "5.0",
         "964982475",
         "Wizard of Oz, The (1939)",
         "Adventure|Children|Fantasy|Musical"
        ],
        [
         "45",
         "1",
         "923",
         "5.0",
         "964981529",
         "Citizen Kane (1941)",
         "Drama|Mystery"
        ],
        [
         "46",
         "1",
         "940",
         "5.0",
         "964982176",
         "Adventures of Robin Hood, The (1938)",
         "Action|Adventure|Romance"
        ],
        [
         "47",
         "1",
         "943",
         "4.0",
         "964983614",
         "Ghost and Mrs. Muir, The (1947)",
         "Drama|Fantasy|Romance"
        ],
        [
         "48",
         "1",
         "954",
         "5.0",
         "964983219",
         "Mr. Smith Goes to Washington (1939)",
         "Drama"
        ],
        [
         "49",
         "1",
         "1009",
         "3.0",
         "964981775",
         "Escape to Witch Mountain (1975)",
         "Adventure|Children|Fantasy"
        ]
       ],
       "shape": {
        "columns": 6,
        "rows": 100836
       }
      },
      "text/html": [
       "<div>\n",
       "<style scoped>\n",
       "    .dataframe tbody tr th:only-of-type {\n",
       "        vertical-align: middle;\n",
       "    }\n",
       "\n",
       "    .dataframe tbody tr th {\n",
       "        vertical-align: top;\n",
       "    }\n",
       "\n",
       "    .dataframe thead th {\n",
       "        text-align: right;\n",
       "    }\n",
       "</style>\n",
       "<table border=\"1\" class=\"dataframe\">\n",
       "  <thead>\n",
       "    <tr style=\"text-align: right;\">\n",
       "      <th></th>\n",
       "      <th>userId</th>\n",
       "      <th>movieId</th>\n",
       "      <th>rating</th>\n",
       "      <th>timestamp</th>\n",
       "      <th>title</th>\n",
       "      <th>genres</th>\n",
       "    </tr>\n",
       "  </thead>\n",
       "  <tbody>\n",
       "    <tr>\n",
       "      <th>0</th>\n",
       "      <td>1</td>\n",
       "      <td>1</td>\n",
       "      <td>4.0</td>\n",
       "      <td>964982703</td>\n",
       "      <td>Toy Story (1995)</td>\n",
       "      <td>Adventure|Animation|Children|Comedy|Fantasy</td>\n",
       "    </tr>\n",
       "    <tr>\n",
       "      <th>1</th>\n",
       "      <td>1</td>\n",
       "      <td>3</td>\n",
       "      <td>4.0</td>\n",
       "      <td>964981247</td>\n",
       "      <td>Grumpier Old Men (1995)</td>\n",
       "      <td>Comedy|Romance</td>\n",
       "    </tr>\n",
       "    <tr>\n",
       "      <th>2</th>\n",
       "      <td>1</td>\n",
       "      <td>6</td>\n",
       "      <td>4.0</td>\n",
       "      <td>964982224</td>\n",
       "      <td>Heat (1995)</td>\n",
       "      <td>Action|Crime|Thriller</td>\n",
       "    </tr>\n",
       "    <tr>\n",
       "      <th>3</th>\n",
       "      <td>1</td>\n",
       "      <td>47</td>\n",
       "      <td>5.0</td>\n",
       "      <td>964983815</td>\n",
       "      <td>Seven (a.k.a. Se7en) (1995)</td>\n",
       "      <td>Mystery|Thriller</td>\n",
       "    </tr>\n",
       "    <tr>\n",
       "      <th>4</th>\n",
       "      <td>1</td>\n",
       "      <td>50</td>\n",
       "      <td>5.0</td>\n",
       "      <td>964982931</td>\n",
       "      <td>Usual Suspects, The (1995)</td>\n",
       "      <td>Crime|Mystery|Thriller</td>\n",
       "    </tr>\n",
       "    <tr>\n",
       "      <th>...</th>\n",
       "      <td>...</td>\n",
       "      <td>...</td>\n",
       "      <td>...</td>\n",
       "      <td>...</td>\n",
       "      <td>...</td>\n",
       "      <td>...</td>\n",
       "    </tr>\n",
       "    <tr>\n",
       "      <th>100831</th>\n",
       "      <td>610</td>\n",
       "      <td>166534</td>\n",
       "      <td>4.0</td>\n",
       "      <td>1493848402</td>\n",
       "      <td>Split (2017)</td>\n",
       "      <td>Drama|Horror|Thriller</td>\n",
       "    </tr>\n",
       "    <tr>\n",
       "      <th>100832</th>\n",
       "      <td>610</td>\n",
       "      <td>168248</td>\n",
       "      <td>5.0</td>\n",
       "      <td>1493850091</td>\n",
       "      <td>John Wick: Chapter Two (2017)</td>\n",
       "      <td>Action|Crime|Thriller</td>\n",
       "    </tr>\n",
       "    <tr>\n",
       "      <th>100833</th>\n",
       "      <td>610</td>\n",
       "      <td>168250</td>\n",
       "      <td>5.0</td>\n",
       "      <td>1494273047</td>\n",
       "      <td>Get Out (2017)</td>\n",
       "      <td>Horror</td>\n",
       "    </tr>\n",
       "    <tr>\n",
       "      <th>100834</th>\n",
       "      <td>610</td>\n",
       "      <td>168252</td>\n",
       "      <td>5.0</td>\n",
       "      <td>1493846352</td>\n",
       "      <td>Logan (2017)</td>\n",
       "      <td>Action|Sci-Fi</td>\n",
       "    </tr>\n",
       "    <tr>\n",
       "      <th>100835</th>\n",
       "      <td>610</td>\n",
       "      <td>170875</td>\n",
       "      <td>3.0</td>\n",
       "      <td>1493846415</td>\n",
       "      <td>The Fate of the Furious (2017)</td>\n",
       "      <td>Action|Crime|Drama|Thriller</td>\n",
       "    </tr>\n",
       "  </tbody>\n",
       "</table>\n",
       "<p>100836 rows × 6 columns</p>\n",
       "</div>"
      ],
      "text/plain": [
       "        userId  movieId  rating   timestamp                           title  \\\n",
       "0            1        1     4.0   964982703                Toy Story (1995)   \n",
       "1            1        3     4.0   964981247         Grumpier Old Men (1995)   \n",
       "2            1        6     4.0   964982224                     Heat (1995)   \n",
       "3            1       47     5.0   964983815     Seven (a.k.a. Se7en) (1995)   \n",
       "4            1       50     5.0   964982931      Usual Suspects, The (1995)   \n",
       "...        ...      ...     ...         ...                             ...   \n",
       "100831     610   166534     4.0  1493848402                    Split (2017)   \n",
       "100832     610   168248     5.0  1493850091   John Wick: Chapter Two (2017)   \n",
       "100833     610   168250     5.0  1494273047                  Get Out (2017)   \n",
       "100834     610   168252     5.0  1493846352                    Logan (2017)   \n",
       "100835     610   170875     3.0  1493846415  The Fate of the Furious (2017)   \n",
       "\n",
       "                                             genres  \n",
       "0       Adventure|Animation|Children|Comedy|Fantasy  \n",
       "1                                    Comedy|Romance  \n",
       "2                             Action|Crime|Thriller  \n",
       "3                                  Mystery|Thriller  \n",
       "4                            Crime|Mystery|Thriller  \n",
       "...                                             ...  \n",
       "100831                        Drama|Horror|Thriller  \n",
       "100832                        Action|Crime|Thriller  \n",
       "100833                                       Horror  \n",
       "100834                                Action|Sci-Fi  \n",
       "100835                  Action|Crime|Drama|Thriller  \n",
       "\n",
       "[100836 rows x 6 columns]"
      ]
     },
     "execution_count": 14,
     "metadata": {},
     "output_type": "execute_result"
    }
   ],
   "source": [
    "df"
   ]
  },
  {
   "cell_type": "code",
   "execution_count": 16,
   "id": "263936ec",
   "metadata": {},
   "outputs": [
    {
     "name": "stdout",
     "output_type": "stream",
     "text": [
      "(100836, 6)\n"
     ]
    }
   ],
   "source": [
    "print(df.shape)     "
   ]
  },
  {
   "cell_type": "code",
   "execution_count": 15,
   "id": "82f4be0d",
   "metadata": {},
   "outputs": [
    {
     "name": "stdout",
     "output_type": "stream",
     "text": [
      "<class 'pandas.core.frame.DataFrame'>\n",
      "RangeIndex: 100836 entries, 0 to 100835\n",
      "Data columns (total 6 columns):\n",
      " #   Column     Non-Null Count   Dtype  \n",
      "---  ------     --------------   -----  \n",
      " 0   userId     100836 non-null  int64  \n",
      " 1   movieId    100836 non-null  int64  \n",
      " 2   rating     100836 non-null  float64\n",
      " 3   timestamp  100836 non-null  int64  \n",
      " 4   title      100836 non-null  object \n",
      " 5   genres     100836 non-null  object \n",
      "dtypes: float64(1), int64(3), object(2)\n",
      "memory usage: 4.6+ MB\n"
     ]
    }
   ],
   "source": [
    "df.info()"
   ]
  },
  {
   "cell_type": "code",
   "execution_count": null,
   "id": "6bc69ab2",
   "metadata": {},
   "outputs": [
    {
     "data": {
      "application/vnd.microsoft.datawrangler.viewer.v0+json": {
       "columns": [
        {
         "name": "index",
         "rawType": "object",
         "type": "string"
        },
        {
         "name": "0",
         "rawType": "int64",
         "type": "integer"
        }
       ],
       "ref": "fe9c0e1d-3b59-43b8-a045-7ea328effe47",
       "rows": [
        [
         "userId",
         "0"
        ],
        [
         "movieId",
         "0"
        ],
        [
         "rating",
         "0"
        ],
        [
         "timestamp",
         "0"
        ],
        [
         "title",
         "0"
        ],
        [
         "genres",
         "0"
        ]
       ],
       "shape": {
        "columns": 1,
        "rows": 6
       }
      },
      "text/plain": [
       "userId       0\n",
       "movieId      0\n",
       "rating       0\n",
       "timestamp    0\n",
       "title        0\n",
       "genres       0\n",
       "dtype: int64"
      ]
     },
     "execution_count": 7,
     "metadata": {},
     "output_type": "execute_result"
    }
   ],
   "source": [
    "df.isnull().sum()"
   ]
  },
  {
   "cell_type": "code",
   "execution_count": 12,
   "id": "1ef7e53b",
   "metadata": {},
   "outputs": [
    {
     "name": "stdout",
     "output_type": "stream",
     "text": [
      "Unique users: 610\n",
      "Unique movies: 9724\n"
     ]
    },
    {
     "data": {
      "text/plain": [
       "<Axes: >"
      ]
     },
     "execution_count": 12,
     "metadata": {},
     "output_type": "execute_result"
    },
    {
     "data": {
      "image/png": "[encoded data removed]",
      "text/plain": [
       "<Figure size 640x480 with 1 Axes>"
      ]
     },
     "metadata": {},
     "output_type": "display_data"
    }
   ],
   "source": [
    "print(\"Unique users:\", df['userId'].nunique())\n",
    "print(\"Unique movies:\", df['movieId'].nunique())\n",
    "df['rating'].hist()"
   ]
  },
  {
   "cell_type": "code",
   "execution_count": null,
   "id": "f2cc1088",
   "metadata": {},
   "outputs": [],
   "source": []
  },
  {
   "cell_type": "code",
   "execution_count": null,
   "id": "ff5a3b4b",
   "metadata": {},
   "outputs": [],
   "source": []
  },
  {
   "cell_type": "code",
   "execution_count": null,
   "metadata": {},
   "outputs": [],
   "source": []
  },
  {
   "cell_type": "code",
   "execution_count": null,
   "id": "0952233b",
   "metadata": {},
   "outputs": [],
   "source": []
  },
  {
   "cell_type": "code",
   "execution_count": null,
   "id": "3b1f31d2",
   "metadata": {},
   "outputs": [],
   "source": [
    "X_train, X_test, y_train, y_test = train_test_split(X, y, test_size=0.3, random_state=42)"
   ]
  },
  {
   "cell_type": "code",
   "execution_count": null,
   "id": "2bfcd902",
   "metadata": {},
   "outputs": [],
   "source": []
  },
  {
   "cell_type": "code",
   "execution_count": null,
   "id": "c7cad1e6",
   "metadata": {},
   "outputs": [],
   "source": []
  },
  {
   "cell_type": "code",
   "execution_count": null,
   "id": "15ebbe7f",
   "metadata": {},
   "outputs": [],
   "source": []
  }
 ],
 "metadata": {
  "kernelspec": {
   "display_name": ".venv",
   "language": "python",
   "name": "python3"
  },
  "language_info": {
   "codemirror_mode": {
    "name": "ipython",
    "version": 3
   },
   "file_extension": ".py",
   "mimetype": "text/x-python",
   "name": "python",
   "nbconvert_exporter": "python",
   "pygments_lexer": "ipython3",
   "version": "3.10.12"
  }
 },
 "nbformat": 4,
 "nbformat_minor": 5
}
