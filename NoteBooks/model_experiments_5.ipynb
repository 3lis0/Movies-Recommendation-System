{
 "cells": [
  {
   "cell_type": "code",
   "execution_count": 161,
   "id": "c146677d",
   "metadata": {},
   "outputs": [],
   "source": [
    "import pandas as pd\n",
    "from sklearn.preprocessing import MinMaxScaler, RobustScaler, StandardScaler\n",
    "from numpy import hstack\n",
    "from sklearn.metrics.pairwise import cosine_similarity\n",
    "import random\n",
    "import joblib\n",
    "import numpy as np"
   ]
  },
  {
   "cell_type": "code",
   "execution_count": 162,
   "id": "46cfda3f",
   "metadata": {},
   "outputs": [
    {
     "data": {
      "text/html": [
       "<div>\n",
       "<style scoped>\n",
       "    .dataframe tbody tr th:only-of-type {\n",
       "        vertical-align: middle;\n",
       "    }\n",
       "\n",
       "    .dataframe tbody tr th {\n",
       "        vertical-align: top;\n",
       "    }\n",
       "\n",
       "    .dataframe thead th {\n",
       "        text-align: right;\n",
       "    }\n",
       "</style>\n",
       "<table border=\"1\" class=\"dataframe\">\n",
       "  <thead>\n",
       "    <tr style=\"text-align: right;\">\n",
       "      <th></th>\n",
       "      <th>movieId</th>\n",
       "      <th>popularity</th>\n",
       "      <th>runtime</th>\n",
       "      <th>vote_average</th>\n",
       "      <th>vote_count</th>\n",
       "      <th>Action</th>\n",
       "      <th>Adventure</th>\n",
       "      <th>Animation</th>\n",
       "      <th>Children</th>\n",
       "      <th>Comedy</th>\n",
       "      <th>...</th>\n",
       "      <th>MX</th>\n",
       "      <th>RU</th>\n",
       "      <th>SE</th>\n",
       "      <th>NZ</th>\n",
       "      <th>CH</th>\n",
       "      <th>IN</th>\n",
       "      <th>AT</th>\n",
       "      <th>NL</th>\n",
       "      <th>BE</th>\n",
       "      <th>BR</th>\n",
       "    </tr>\n",
       "  </thead>\n",
       "  <tbody>\n",
       "    <tr>\n",
       "      <th>0</th>\n",
       "      <td>1</td>\n",
       "      <td>21.4021</td>\n",
       "      <td>81.0</td>\n",
       "      <td>7.969</td>\n",
       "      <td>18889.0</td>\n",
       "      <td>0</td>\n",
       "      <td>1</td>\n",
       "      <td>1</td>\n",
       "      <td>0</td>\n",
       "      <td>1</td>\n",
       "      <td>...</td>\n",
       "      <td>0</td>\n",
       "      <td>0</td>\n",
       "      <td>0</td>\n",
       "      <td>0</td>\n",
       "      <td>0</td>\n",
       "      <td>0</td>\n",
       "      <td>0</td>\n",
       "      <td>0</td>\n",
       "      <td>0</td>\n",
       "      <td>0</td>\n",
       "    </tr>\n",
       "    <tr>\n",
       "      <th>1</th>\n",
       "      <td>2</td>\n",
       "      <td>3.0047</td>\n",
       "      <td>104.0</td>\n",
       "      <td>7.237</td>\n",
       "      <td>10783.0</td>\n",
       "      <td>0</td>\n",
       "      <td>1</td>\n",
       "      <td>0</td>\n",
       "      <td>0</td>\n",
       "      <td>0</td>\n",
       "      <td>...</td>\n",
       "      <td>0</td>\n",
       "      <td>0</td>\n",
       "      <td>0</td>\n",
       "      <td>0</td>\n",
       "      <td>0</td>\n",
       "      <td>0</td>\n",
       "      <td>0</td>\n",
       "      <td>0</td>\n",
       "      <td>0</td>\n",
       "      <td>0</td>\n",
       "    </tr>\n",
       "    <tr>\n",
       "      <th>2</th>\n",
       "      <td>3</td>\n",
       "      <td>1.4596</td>\n",
       "      <td>101.0</td>\n",
       "      <td>6.500</td>\n",
       "      <td>398.0</td>\n",
       "      <td>0</td>\n",
       "      <td>0</td>\n",
       "      <td>0</td>\n",
       "      <td>0</td>\n",
       "      <td>1</td>\n",
       "      <td>...</td>\n",
       "      <td>0</td>\n",
       "      <td>0</td>\n",
       "      <td>0</td>\n",
       "      <td>0</td>\n",
       "      <td>0</td>\n",
       "      <td>0</td>\n",
       "      <td>0</td>\n",
       "      <td>0</td>\n",
       "      <td>0</td>\n",
       "      <td>0</td>\n",
       "    </tr>\n",
       "    <tr>\n",
       "      <th>3</th>\n",
       "      <td>4</td>\n",
       "      <td>1.6120</td>\n",
       "      <td>127.0</td>\n",
       "      <td>6.300</td>\n",
       "      <td>173.0</td>\n",
       "      <td>0</td>\n",
       "      <td>0</td>\n",
       "      <td>0</td>\n",
       "      <td>0</td>\n",
       "      <td>1</td>\n",
       "      <td>...</td>\n",
       "      <td>0</td>\n",
       "      <td>0</td>\n",
       "      <td>0</td>\n",
       "      <td>0</td>\n",
       "      <td>0</td>\n",
       "      <td>0</td>\n",
       "      <td>0</td>\n",
       "      <td>0</td>\n",
       "      <td>0</td>\n",
       "      <td>0</td>\n",
       "    </tr>\n",
       "    <tr>\n",
       "      <th>4</th>\n",
       "      <td>5</td>\n",
       "      <td>2.0869</td>\n",
       "      <td>106.0</td>\n",
       "      <td>6.237</td>\n",
       "      <td>754.0</td>\n",
       "      <td>0</td>\n",
       "      <td>0</td>\n",
       "      <td>0</td>\n",
       "      <td>0</td>\n",
       "      <td>1</td>\n",
       "      <td>...</td>\n",
       "      <td>0</td>\n",
       "      <td>0</td>\n",
       "      <td>0</td>\n",
       "      <td>0</td>\n",
       "      <td>0</td>\n",
       "      <td>0</td>\n",
       "      <td>0</td>\n",
       "      <td>0</td>\n",
       "      <td>0</td>\n",
       "      <td>0</td>\n",
       "    </tr>\n",
       "  </tbody>\n",
       "</table>\n",
       "<p>5 rows × 77 columns</p>\n",
       "</div>"
      ],
      "text/plain": [
       "   movieId  popularity  runtime  vote_average  vote_count  Action  Adventure  \\\n",
       "0        1     21.4021     81.0         7.969     18889.0       0          1   \n",
       "1        2      3.0047    104.0         7.237     10783.0       0          1   \n",
       "2        3      1.4596    101.0         6.500       398.0       0          0   \n",
       "3        4      1.6120    127.0         6.300       173.0       0          0   \n",
       "4        5      2.0869    106.0         6.237       754.0       0          0   \n",
       "\n",
       "   Animation  Children  Comedy  ...  MX  RU  SE  NZ  CH  IN  AT  NL  BE  BR  \n",
       "0          1         0       1  ...   0   0   0   0   0   0   0   0   0   0  \n",
       "1          0         0       0  ...   0   0   0   0   0   0   0   0   0   0  \n",
       "2          0         0       1  ...   0   0   0   0   0   0   0   0   0   0  \n",
       "3          0         0       1  ...   0   0   0   0   0   0   0   0   0   0  \n",
       "4          0         0       1  ...   0   0   0   0   0   0   0   0   0   0  \n",
       "\n",
       "[5 rows x 77 columns]"
      ]
     },
     "execution_count": 162,
     "metadata": {},
     "output_type": "execute_result"
    }
   ],
   "source": [
    "df = pd.read_csv(\"movies_feature_engineered.csv\")\n",
    "df.head()"
   ]
  },
  {
   "cell_type": "code",
   "execution_count": 207,
   "id": "c5e66c08",
   "metadata": {},
   "outputs": [
    {
     "data": {
      "text/plain": [
       "array([[ 4.87546963, -0.96165432,  1.70808733, ...,  0.        ,\n",
       "         0.        ,  0.        ],\n",
       "       [ 0.0198783 , -0.01333186,  0.84822861, ...,  1.        ,\n",
       "         0.        ,  0.        ],\n",
       "       [-0.38791705, -0.13702609, -0.01750346, ...,  0.        ,\n",
       "         0.        ,  1.        ],\n",
       "       ...,\n",
       "       [-0.677499  , -0.34318315,  0.34194568, ...,  0.        ,\n",
       "         0.        ,  0.        ],\n",
       "       [ 0.83127254, -0.59057162,  1.88898657, ...,  0.        ,\n",
       "         0.        ,  0.        ],\n",
       "       [-0.72859548, -0.79672868,  0.1786665 , ...,  0.        ,\n",
       "         0.        ,  0.        ]])"
      ]
     },
     "execution_count": 207,
     "metadata": {},
     "output_type": "execute_result"
    }
   ],
   "source": [
    "#Identify feature columns\n",
    "numeric_features = ['popularity', 'runtime', 'vote_average', 'vote_count']\n",
    "genre_features = df.columns.difference(numeric_features + ['movieId'])\n",
    "\n",
    "#Scale numeric features between 0 and 1\n",
    "scaler = StandardScaler()\n",
    "scaled_numerics = scaler.fit_transform(df[numeric_features])\n",
    "\n",
    "#Combine scaled numerics + genre features\n",
    "\n",
    "final_features = hstack([\n",
    "    scaled_numerics,\n",
    "    df[genre_features].values\n",
    "])\n",
    "final_features"
   ]
  },
  {
   "cell_type": "code",
   "execution_count": 208,
   "id": "56b05e68",
   "metadata": {},
   "outputs": [
    {
     "data": {
      "text/plain": [
       "(9742, 76)"
      ]
     },
     "execution_count": 208,
     "metadata": {},
     "output_type": "execute_result"
    }
   ],
   "source": [
    "final_features.shape"
   ]
  },
  {
   "cell_type": "code",
   "execution_count": 209,
   "id": "804c8438",
   "metadata": {},
   "outputs": [],
   "source": [
    "# Compute pairwise cosine similarity\n",
    "similarity_matrix = cosine_similarity(final_features)"
   ]
  },
  {
   "cell_type": "code",
   "execution_count": 196,
   "id": "4f26ff6d",
   "metadata": {},
   "outputs": [],
   "source": [
    "movie_ids = df['movieId'].values\n",
    "movie_id_to_index = {movie_id: idx for idx, movie_id in enumerate(movie_ids)}\n",
    "index_to_movie_id = {idx: movie_id for idx, movie_id in enumerate(movie_ids)}"
   ]
  },
  {
   "cell_type": "code",
   "execution_count": 197,
   "id": "13741ab4",
   "metadata": {},
   "outputs": [],
   "source": [
    "def recommend_similar_movies(movie_id, top_n=10, randomness_factor=2):\n",
    "    \"\"\"\n",
    "    Recommend top_n similar movies to the given movie_id, with a bit of randomness.\n",
    "    \n",
    "    randomness_factor: how many more items to consider before picking top_n randomly\n",
    "    \"\"\"\n",
    "    if movie_id not in movie_id_to_index:\n",
    "        raise ValueError(\"Movie ID not found in the dataset.\")\n",
    "    \n",
    "    idx = movie_id_to_index[movie_id]\n",
    "    sim_scores = similarity_matrix[idx]\n",
    "\n",
    "    # Get top (top_n * randomness_factor) indices, excluding self\n",
    "    pool_size = top_n * randomness_factor\n",
    "    top_pool_indices = sim_scores.argsort()[::-1]\n",
    "    top_pool_indices = [i for i in top_pool_indices if i != idx][:pool_size]\n",
    "\n",
    "    # Randomly pick top_n unique indices from the pool\n",
    "    selected_indices = random.sample(top_pool_indices, top_n)\n",
    "\n",
    "    # Extract movie IDs and actual similarity scores\n",
    "    similar_movie_ids = [index_to_movie_id[i] for i in selected_indices]\n",
    "    similar_scores = [round(sim_scores[i], 4) for i in selected_indices]\n",
    "\n",
    "    return similar_movie_ids, similar_scores\n"
   ]
  },
  {
   "cell_type": "code",
   "execution_count": 217,
   "id": "9af41070",
   "metadata": {},
   "outputs": [
    {
     "data": {
      "text/plain": [
       "([152081, 177765, 4886, 5218, 6377, 1, 50872, 4306, 115617, 68954],\n",
       " [0.964,\n",
       "  0.9442,\n",
       "  0.9899,\n",
       "  0.9448,\n",
       "  0.9503,\n",
       "  0.9844,\n",
       "  0.9743,\n",
       "  0.9513,\n",
       "  0.9529,\n",
       "  0.9443])"
      ]
     },
     "execution_count": 217,
     "metadata": {},
     "output_type": "execute_result"
    }
   ],
   "source": [
    "recommend_similar_movies(3114,10,1)"
   ]
  },
  {
   "cell_type": "code",
   "execution_count": 218,
   "id": "5a2f680c",
   "metadata": {},
   "outputs": [
    {
     "data": {
      "text/plain": [
       "['movie_id_to_index.pkl']"
      ]
     },
     "execution_count": 218,
     "metadata": {},
     "output_type": "execute_result"
    }
   ],
   "source": [
    "np.save(\"final_features.npy\", final_features)\n",
    "joblib.dump(index_to_movie_id, \"index_to_movie_id.pkl\")\n",
    "joblib.dump(movie_id_to_index, \"movie_id_to_index.pkl\")"
   ]
  }
 ],
 "metadata": {
  "kernelspec": {
   "display_name": "Python 3",
   "language": "python",
   "name": "python3"
  },
  "language_info": {
   "codemirror_mode": {
    "name": "ipython",
    "version": 3
   },
   "file_extension": ".py",
   "mimetype": "text/x-python",
   "name": "python",
   "nbconvert_exporter": "python",
   "pygments_lexer": "ipython3",
   "version": "3.9.0"
  }
 },
 "nbformat": 4,
 "nbformat_minor": 5
}
