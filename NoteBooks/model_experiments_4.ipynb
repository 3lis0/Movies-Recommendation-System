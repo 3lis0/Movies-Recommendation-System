{
 "cells": [
  {
   "cell_type": "code",
   "execution_count": 4,
   "id": "a05986b3",
   "metadata": {},
   "outputs": [
    {
     "name": "stdout",
     "output_type": "stream",
     "text": [
      "[INFO] Loading data...\n",
      "[INFO] Mapping IDs to indices...\n",
      "[INFO] Building interaction matrix...\n",
      "[INFO] Saving interaction matrix...\n",
      "[INFO] Training LightFM model (loss=logistic, epochs=20)...\n",
      "[INFO] Saving model and ID mappings...\n",
      "[DONE] Model training and saving complete.\n"
     ]
    }
   ],
   "source": [
    "import pandas as pd\n",
    "import numpy as np\n",
    "from scipy.sparse import coo_matrix, save_npz\n",
    "from lightfm import LightFM\n",
    "import joblib\n",
    "import os\n",
    "\n",
    "# === Config ===\n",
    "RATING_THRESHOLD = 6\n",
    "EPOCHS = 20\n",
    "NUM_THREADS = 1\n",
    "LOSS = 'logistic'\n",
    "\n",
    "# === Load your data ===\n",
    "# Assume CSV file format with: userId, movieId, rating\n",
    "print(\"[INFO] Loading data...\")\n",
    "ratings_df = pd.read_csv(\"../data/ratings.csv\")\n",
    "ratings_df['rating'] = ratings_df['rating'] * 2\n",
    "ratings_df = ratings_df[ratings_df['rating'] > RATING_THRESHOLD]\n",
    "\n",
    "# === Map raw IDs to indices ===\n",
    "print(\"[INFO] Mapping IDs to indices...\")\n",
    "user_ids = ratings_df['userId'].unique()\n",
    "item_ids = ratings_df['movieId'].unique()\n",
    "\n",
    "user_id_map = {raw_id: idx for idx, raw_id in enumerate(user_ids)}\n",
    "item_id_map = {raw_id: idx for idx, raw_id in enumerate(item_ids)}\n",
    "\n",
    "ratings_df['user_idx'] = ratings_df['userId'].map(user_id_map)\n",
    "ratings_df['item_idx'] = ratings_df['movieId'].map(item_id_map)\n",
    "\n",
    "# === Create interaction matrix ===\n",
    "print(\"[INFO] Building interaction matrix...\")\n",
    "interactions = coo_matrix(\n",
    "    (np.ones(len(ratings_df)), (ratings_df['user_idx'], ratings_df['item_idx'])),\n",
    "    shape=(len(user_ids), len(item_ids))\n",
    ")\n",
    "\n",
    "# === Save interaction matrix ===\n",
    "print(\"[INFO] Saving interaction matrix...\")\n",
    "save_npz(\"interactions.npz\", interactions)\n",
    "\n",
    "# === Train LightFM model ===\n",
    "print(f\"[INFO] Training LightFM model (loss={LOSS}, epochs={EPOCHS})...\")\n",
    "model = LightFM(loss=LOSS)\n",
    "model.fit(interactions, epochs=EPOCHS, num_threads=NUM_THREADS)\n",
    "\n",
    "# === Save model and mappings ===\n",
    "print(\"[INFO] Saving model and ID mappings...\")\n",
    "joblib.dump(model, \"lightfm_model.pkl\")\n",
    "joblib.dump(user_id_map, \"user_id_map.pkl\")\n",
    "joblib.dump(item_id_map, \"item_id_map.pkl\")\n",
    "\n",
    "print(\"[DONE] Model training and saving complete.\")\n"
   ]
  },
  {
   "cell_type": "code",
   "execution_count": 5,
   "id": "f44edb63",
   "metadata": {},
   "outputs": [
    {
     "name": "stdout",
     "output_type": "stream",
     "text": [
      "[INFO] Evaluating model...\n",
      "[RESULT] Precision@10: 0.3727\n",
      "[RESULT] AUC: 0.9133\n"
     ]
    }
   ],
   "source": [
    "from lightfm.evaluation import precision_at_k, auc_score\n",
    "\n",
    "# Evaluate on the same interaction matrix (full training set)\n",
    "print(\"[INFO] Evaluating model...\")\n",
    "\n",
    "precision = precision_at_k(model, interactions, k=10).mean()\n",
    "auc = auc_score(model, interactions).mean()\n",
    "\n",
    "print(f\"[RESULT] Precision@10: {precision:.4f}\")\n",
    "print(f\"[RESULT] AUC: {auc:.4f}\")\n"
   ]
  },
  {
   "cell_type": "code",
   "execution_count": 6,
   "id": "656f2f4b",
   "metadata": {},
   "outputs": [
    {
     "name": "stdout",
     "output_type": "stream",
     "text": [
      "[EVAL] Precision@10: 0.1246\n",
      "[EVAL] AUC: 0.8848\n"
     ]
    }
   ],
   "source": [
    "from lightfm.cross_validation import random_train_test_split\n",
    "\n",
    "train, test = random_train_test_split(interactions, test_percentage=0.2, random_state=42)\n",
    "\n",
    "model = LightFM(loss=LOSS)\n",
    "model.fit(train, epochs=30, num_threads=1)\n",
    "\n",
    "precision = precision_at_k(model, test, train_interactions=train, k=10).mean()\n",
    "auc = auc_score(model, test, train_interactions=train).mean()\n",
    "\n",
    "print(f\"[EVAL] Precision@10: {precision:.4f}\")\n",
    "print(f\"[EVAL] AUC: {auc:.4f}\")\n"
   ]
  }
 ],
 "metadata": {
  "kernelspec": {
   "display_name": "rs-env",
   "language": "python",
   "name": "python3"
  },
  "language_info": {
   "codemirror_mode": {
    "name": "ipython",
    "version": 3
   },
   "file_extension": ".py",
   "mimetype": "text/x-python",
   "name": "python",
   "nbconvert_exporter": "python",
   "pygments_lexer": "ipython3",
   "version": "3.9.0"
  }
 },
 "nbformat": 4,
 "nbformat_minor": 5
}
